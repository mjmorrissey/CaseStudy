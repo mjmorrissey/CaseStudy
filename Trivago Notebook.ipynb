{
 "cells": [
  {
   "cell_type": "code",
   "execution_count": 1,
   "metadata": {},
   "outputs": [],
   "source": [
    "# Render our plots inline\n",
    "%matplotlib inline\n",
    "\n",
    "import pandas as pd\n",
    "import matplotlib.pyplot as plt\n",
    "import datetime\n",
    "\n",
    "# Make the graphs a bit prettier, and bigger\n",
    "plt.style.use('ggplot')\n",
    "plt.rcParams['figure.figsize'] = (15, 5)"
   ]
  },
  {
   "cell_type": "markdown",
   "metadata": {},
   "source": [
    "# Dataset Overview"
   ]
  },
  {
   "cell_type": "markdown",
   "metadata": {},
   "source": [
    "#### Importing Dataset"
   ]
  },
  {
   "cell_type": "code",
   "execution_count": 2,
   "metadata": {},
   "outputs": [],
   "source": [
    "df = pd.read_csv('case_study_marketing_20210201.csv')"
   ]
  },
  {
   "cell_type": "markdown",
   "metadata": {},
   "source": [
    "#### Dataset Preview"
   ]
  },
  {
   "cell_type": "code",
   "execution_count": 3,
   "metadata": {},
   "outputs": [
    {
     "data": {
      "text/html": [
       "<div>\n",
       "<style scoped>\n",
       "    .dataframe tbody tr th:only-of-type {\n",
       "        vertical-align: middle;\n",
       "    }\n",
       "\n",
       "    .dataframe tbody tr th {\n",
       "        vertical-align: top;\n",
       "    }\n",
       "\n",
       "    .dataframe thead th {\n",
       "        text-align: right;\n",
       "    }\n",
       "</style>\n",
       "<table border=\"1\" class=\"dataframe\">\n",
       "  <thead>\n",
       "    <tr style=\"text-align: right;\">\n",
       "      <th></th>\n",
       "      <th>ymd</th>\n",
       "      <th>market_code</th>\n",
       "      <th>account_id</th>\n",
       "      <th>pub_campaign_id</th>\n",
       "      <th>pub_adgroup_id</th>\n",
       "      <th>pub_keyword_id</th>\n",
       "      <th>keyword_name</th>\n",
       "      <th>pub_device</th>\n",
       "      <th>match_type</th>\n",
       "      <th>theme_name_english</th>\n",
       "      <th>replacement_type_name</th>\n",
       "      <th>impressions</th>\n",
       "      <th>clickins</th>\n",
       "      <th>cost</th>\n",
       "      <th>clickout</th>\n",
       "      <th>bookings</th>\n",
       "      <th>clickout_rev</th>\n",
       "      <th>booking_amount</th>\n",
       "      <th>users_engagement</th>\n",
       "    </tr>\n",
       "  </thead>\n",
       "  <tbody>\n",
       "    <tr>\n",
       "      <th>0</th>\n",
       "      <td>20200905</td>\n",
       "      <td>DE</td>\n",
       "      <td>321</td>\n",
       "      <td>11312819993</td>\n",
       "      <td>114584083847</td>\n",
       "      <td>4729772737</td>\n",
       "      <td>neos marmaras hotels</td>\n",
       "      <td>phone</td>\n",
       "      <td>0</td>\n",
       "      <td>Hotel</td>\n",
       "      <td>City</td>\n",
       "      <td>1</td>\n",
       "      <td>0</td>\n",
       "      <td>0</td>\n",
       "      <td>0</td>\n",
       "      <td>0.0</td>\n",
       "      <td>0</td>\n",
       "      <td>0.0</td>\n",
       "      <td>490</td>\n",
       "    </tr>\n",
       "    <tr>\n",
       "      <th>1</th>\n",
       "      <td>20200905</td>\n",
       "      <td>DE</td>\n",
       "      <td>515</td>\n",
       "      <td>180791594</td>\n",
       "      <td>3133140280</td>\n",
       "      <td>76004101942085</td>\n",
       "      <td>altstadt florenz</td>\n",
       "      <td>desktop</td>\n",
       "      <td>0</td>\n",
       "      <td>HotelsHistoricCity</td>\n",
       "      <td>City</td>\n",
       "      <td>1</td>\n",
       "      <td>0</td>\n",
       "      <td>0</td>\n",
       "      <td>0</td>\n",
       "      <td>0.0</td>\n",
       "      <td>0</td>\n",
       "      <td>0.0</td>\n",
       "      <td>455</td>\n",
       "    </tr>\n",
       "    <tr>\n",
       "      <th>2</th>\n",
       "      <td>20200905</td>\n",
       "      <td>UK</td>\n",
       "      <td>505</td>\n",
       "      <td>180388254</td>\n",
       "      <td>1211662269993764</td>\n",
       "      <td>75729226461556</td>\n",
       "      <td>+apartment +wigan</td>\n",
       "      <td>desktop</td>\n",
       "      <td>2</td>\n",
       "      <td>Apartment</td>\n",
       "      <td>City</td>\n",
       "      <td>4</td>\n",
       "      <td>0</td>\n",
       "      <td>0</td>\n",
       "      <td>0</td>\n",
       "      <td>0.0</td>\n",
       "      <td>0</td>\n",
       "      <td>0.0</td>\n",
       "      <td>207</td>\n",
       "    </tr>\n",
       "    <tr>\n",
       "      <th>3</th>\n",
       "      <td>20200905</td>\n",
       "      <td>AU</td>\n",
       "      <td>391</td>\n",
       "      <td>11144550479</td>\n",
       "      <td>112858143241</td>\n",
       "      <td>93007224</td>\n",
       "      <td>accommodation jervis bay</td>\n",
       "      <td>tablet</td>\n",
       "      <td>1</td>\n",
       "      <td>Accommodation</td>\n",
       "      <td>City</td>\n",
       "      <td>1</td>\n",
       "      <td>0</td>\n",
       "      <td>0</td>\n",
       "      <td>0</td>\n",
       "      <td>0.0</td>\n",
       "      <td>0</td>\n",
       "      <td>0.0</td>\n",
       "      <td>253</td>\n",
       "    </tr>\n",
       "    <tr>\n",
       "      <th>4</th>\n",
       "      <td>20200905</td>\n",
       "      <td>BR</td>\n",
       "      <td>318</td>\n",
       "      <td>619614653</td>\n",
       "      <td>10709471032</td>\n",
       "      <td>4576251921</td>\n",
       "      <td>hoteis em Dubai</td>\n",
       "      <td>phone</td>\n",
       "      <td>0</td>\n",
       "      <td>Hotel</td>\n",
       "      <td>City</td>\n",
       "      <td>13</td>\n",
       "      <td>1</td>\n",
       "      <td>6</td>\n",
       "      <td>0</td>\n",
       "      <td>0.0</td>\n",
       "      <td>0</td>\n",
       "      <td>0.0</td>\n",
       "      <td>273</td>\n",
       "    </tr>\n",
       "    <tr>\n",
       "      <th>...</th>\n",
       "      <td>...</td>\n",
       "      <td>...</td>\n",
       "      <td>...</td>\n",
       "      <td>...</td>\n",
       "      <td>...</td>\n",
       "      <td>...</td>\n",
       "      <td>...</td>\n",
       "      <td>...</td>\n",
       "      <td>...</td>\n",
       "      <td>...</td>\n",
       "      <td>...</td>\n",
       "      <td>...</td>\n",
       "      <td>...</td>\n",
       "      <td>...</td>\n",
       "      <td>...</td>\n",
       "      <td>...</td>\n",
       "      <td>...</td>\n",
       "      <td>...</td>\n",
       "      <td>...</td>\n",
       "    </tr>\n",
       "    <tr>\n",
       "      <th>1275180</th>\n",
       "      <td>20210303</td>\n",
       "      <td>CA</td>\n",
       "      <td>719</td>\n",
       "      <td>180699551</td>\n",
       "      <td>1212761344370965</td>\n",
       "      <td>75797601552370</td>\n",
       "      <td>addis abeba</td>\n",
       "      <td>desktop</td>\n",
       "      <td>0</td>\n",
       "      <td>RegionOnly</td>\n",
       "      <td>RegionOnly</td>\n",
       "      <td>0</td>\n",
       "      <td>0</td>\n",
       "      <td>0</td>\n",
       "      <td>0</td>\n",
       "      <td>0.0</td>\n",
       "      <td>0</td>\n",
       "      <td>0.0</td>\n",
       "      <td>47</td>\n",
       "    </tr>\n",
       "    <tr>\n",
       "      <th>1275181</th>\n",
       "      <td>20210303</td>\n",
       "      <td>UK</td>\n",
       "      <td>368</td>\n",
       "      <td>11722685491</td>\n",
       "      <td>114073451499</td>\n",
       "      <td>18763314731</td>\n",
       "      <td>+formentera</td>\n",
       "      <td>phone</td>\n",
       "      <td>2</td>\n",
       "      <td>RegionOnly</td>\n",
       "      <td>RegionOnly</td>\n",
       "      <td>0</td>\n",
       "      <td>0</td>\n",
       "      <td>0</td>\n",
       "      <td>0</td>\n",
       "      <td>0.0</td>\n",
       "      <td>0</td>\n",
       "      <td>0.0</td>\n",
       "      <td>30</td>\n",
       "    </tr>\n",
       "    <tr>\n",
       "      <th>1275182</th>\n",
       "      <td>20210303</td>\n",
       "      <td>CA</td>\n",
       "      <td>719</td>\n",
       "      <td>180699530</td>\n",
       "      <td>2549199849</td>\n",
       "      <td>116341251666</td>\n",
       "      <td>Hawaii</td>\n",
       "      <td>tablet</td>\n",
       "      <td>0</td>\n",
       "      <td>RegionOnly</td>\n",
       "      <td>RegionOnly</td>\n",
       "      <td>0</td>\n",
       "      <td>0</td>\n",
       "      <td>0</td>\n",
       "      <td>0</td>\n",
       "      <td>0.0</td>\n",
       "      <td>0</td>\n",
       "      <td>0.0</td>\n",
       "      <td>87</td>\n",
       "    </tr>\n",
       "    <tr>\n",
       "      <th>1275183</th>\n",
       "      <td>20210303</td>\n",
       "      <td>DE</td>\n",
       "      <td>321</td>\n",
       "      <td>11312821157</td>\n",
       "      <td>111263541255</td>\n",
       "      <td>41368747</td>\n",
       "      <td>kreta</td>\n",
       "      <td>desktop</td>\n",
       "      <td>0</td>\n",
       "      <td>RegionOnly</td>\n",
       "      <td>RegionOnly</td>\n",
       "      <td>0</td>\n",
       "      <td>0</td>\n",
       "      <td>0</td>\n",
       "      <td>0</td>\n",
       "      <td>NaN</td>\n",
       "      <td>0</td>\n",
       "      <td>NaN</td>\n",
       "      <td>336</td>\n",
       "    </tr>\n",
       "    <tr>\n",
       "      <th>1275184</th>\n",
       "      <td>20210303</td>\n",
       "      <td>DE</td>\n",
       "      <td>321</td>\n",
       "      <td>11312821160</td>\n",
       "      <td>111263535495</td>\n",
       "      <td>50510910</td>\n",
       "      <td>la gomera</td>\n",
       "      <td>tablet</td>\n",
       "      <td>0</td>\n",
       "      <td>RegionOnly</td>\n",
       "      <td>RegionOnly</td>\n",
       "      <td>0</td>\n",
       "      <td>0</td>\n",
       "      <td>0</td>\n",
       "      <td>0</td>\n",
       "      <td>0.0</td>\n",
       "      <td>0</td>\n",
       "      <td>0.0</td>\n",
       "      <td>459</td>\n",
       "    </tr>\n",
       "  </tbody>\n",
       "</table>\n",
       "<p>1275185 rows × 19 columns</p>\n",
       "</div>"
      ],
      "text/plain": [
       "              ymd market_code  account_id  pub_campaign_id    pub_adgroup_id  \\\n",
       "0        20200905          DE         321      11312819993      114584083847   \n",
       "1        20200905          DE         515        180791594        3133140280   \n",
       "2        20200905          UK         505        180388254  1211662269993764   \n",
       "3        20200905          AU         391      11144550479      112858143241   \n",
       "4        20200905          BR         318        619614653       10709471032   \n",
       "...           ...         ...         ...              ...               ...   \n",
       "1275180  20210303          CA         719        180699551  1212761344370965   \n",
       "1275181  20210303          UK         368      11722685491      114073451499   \n",
       "1275182  20210303          CA         719        180699530        2549199849   \n",
       "1275183  20210303          DE         321      11312821157      111263541255   \n",
       "1275184  20210303          DE         321      11312821160      111263535495   \n",
       "\n",
       "         pub_keyword_id              keyword_name pub_device  match_type  \\\n",
       "0            4729772737      neos marmaras hotels      phone           0   \n",
       "1        76004101942085          altstadt florenz    desktop           0   \n",
       "2        75729226461556         +apartment +wigan    desktop           2   \n",
       "3              93007224  accommodation jervis bay     tablet           1   \n",
       "4            4576251921           hoteis em Dubai      phone           0   \n",
       "...                 ...                       ...        ...         ...   \n",
       "1275180  75797601552370               addis abeba    desktop           0   \n",
       "1275181     18763314731               +formentera      phone           2   \n",
       "1275182    116341251666                    Hawaii     tablet           0   \n",
       "1275183        41368747                     kreta    desktop           0   \n",
       "1275184        50510910                 la gomera     tablet           0   \n",
       "\n",
       "         theme_name_english replacement_type_name  impressions  clickins  \\\n",
       "0                     Hotel                  City            1         0   \n",
       "1        HotelsHistoricCity                  City            1         0   \n",
       "2                 Apartment                  City            4         0   \n",
       "3             Accommodation                  City            1         0   \n",
       "4                     Hotel                  City           13         1   \n",
       "...                     ...                   ...          ...       ...   \n",
       "1275180          RegionOnly            RegionOnly            0         0   \n",
       "1275181          RegionOnly            RegionOnly            0         0   \n",
       "1275182          RegionOnly            RegionOnly            0         0   \n",
       "1275183          RegionOnly            RegionOnly            0         0   \n",
       "1275184          RegionOnly            RegionOnly            0         0   \n",
       "\n",
       "         cost  clickout  bookings  clickout_rev  booking_amount  \\\n",
       "0           0         0       0.0             0             0.0   \n",
       "1           0         0       0.0             0             0.0   \n",
       "2           0         0       0.0             0             0.0   \n",
       "3           0         0       0.0             0             0.0   \n",
       "4           6         0       0.0             0             0.0   \n",
       "...       ...       ...       ...           ...             ...   \n",
       "1275180     0         0       0.0             0             0.0   \n",
       "1275181     0         0       0.0             0             0.0   \n",
       "1275182     0         0       0.0             0             0.0   \n",
       "1275183     0         0       NaN             0             NaN   \n",
       "1275184     0         0       0.0             0             0.0   \n",
       "\n",
       "         users_engagement  \n",
       "0                     490  \n",
       "1                     455  \n",
       "2                     207  \n",
       "3                     253  \n",
       "4                     273  \n",
       "...                   ...  \n",
       "1275180                47  \n",
       "1275181                30  \n",
       "1275182                87  \n",
       "1275183               336  \n",
       "1275184               459  \n",
       "\n",
       "[1275185 rows x 19 columns]"
      ]
     },
     "execution_count": 3,
     "metadata": {},
     "output_type": "execute_result"
    }
   ],
   "source": [
    "df"
   ]
  },
  {
   "cell_type": "markdown",
   "metadata": {},
   "source": [
    "#### Number of Bookings per Ad"
   ]
  },
  {
   "cell_type": "code",
   "execution_count": 4,
   "metadata": {},
   "outputs": [
    {
     "data": {
      "text/plain": [
       "<matplotlib.axes._subplots.AxesSubplot at 0x2198006a0c8>"
      ]
     },
     "execution_count": 4,
     "metadata": {},
     "output_type": "execute_result"
    },
    {
     "data": {
      "image/png": "[encoded data removed]",
      "text/plain": [
       "<Figure size 1080x360 with 1 Axes>"
      ]
     },
     "metadata": {},
     "output_type": "display_data"
    }
   ],
   "source": [
    "df['bookings'].plot()"
   ]
  },
  {
   "cell_type": "markdown",
   "metadata": {},
   "source": [
    "#### Number of Ads that had at least one booking"
   ]
  },
  {
   "cell_type": "code",
   "execution_count": 5,
   "metadata": {},
   "outputs": [
    {
     "data": {
      "text/plain": [
       "2138"
      ]
     },
     "execution_count": 5,
     "metadata": {},
     "output_type": "execute_result"
    }
   ],
   "source": [
    "at_least_one_booking = df[df['bookings'] > 0]\n",
    "len(at_least_one_booking)"
   ]
  },
  {
   "cell_type": "markdown",
   "metadata": {},
   "source": [
    "#### Number of Ads that had at least two bookings"
   ]
  },
  {
   "cell_type": "code",
   "execution_count": 6,
   "metadata": {},
   "outputs": [
    {
     "data": {
      "text/plain": [
       "177"
      ]
     },
     "execution_count": 6,
     "metadata": {},
     "output_type": "execute_result"
    }
   ],
   "source": [
    "at_least_two_bookings = df[df['bookings'] > 1]\n",
    "len(at_least_two_bookings)"
   ]
  },
  {
   "cell_type": "markdown",
   "metadata": {},
   "source": [
    "#### Number of Ads that had at least one booking sorted by Country"
   ]
  },
  {
   "cell_type": "code",
   "execution_count": 7,
   "metadata": {},
   "outputs": [
    {
     "data": {
      "text/plain": [
       "AU    904\n",
       "BR    747\n",
       "CA    180\n",
       "UK    166\n",
       "DE    141\n",
       "Name: market_code, dtype: int64"
      ]
     },
     "execution_count": 7,
     "metadata": {},
     "output_type": "execute_result"
    }
   ],
   "source": [
    "at_least_one_booking_counts = at_least_one_booking['market_code'].value_counts()\n",
    "at_least_one_booking_counts"
   ]
  },
  {
   "cell_type": "markdown",
   "metadata": {},
   "source": [
    "#### Number of Ads that had at least one booking sorted by Country as percentage of total >1 bookings"
   ]
  },
  {
   "cell_type": "code",
   "execution_count": 8,
   "metadata": {},
   "outputs": [
    {
     "data": {
      "text/plain": [
       "AU    0.422825\n",
       "BR    0.349392\n",
       "CA    0.084191\n",
       "UK    0.077643\n",
       "DE    0.065949\n",
       "Name: market_code, dtype: float64"
      ]
     },
     "execution_count": 8,
     "metadata": {},
     "output_type": "execute_result"
    }
   ],
   "source": [
    "at_least_one_by_country = at_least_one_booking_counts / at_least_one_booking_counts.sum()\n",
    "at_least_one_by_country"
   ]
  },
  {
   "cell_type": "code",
   "execution_count": 9,
   "metadata": {},
   "outputs": [
    {
     "data": {
      "text/plain": [
       "<matplotlib.axes._subplots.AxesSubplot at 0x219802927c8>"
      ]
     },
     "execution_count": 9,
     "metadata": {},
     "output_type": "execute_result"
    },
    {
     "data": {
      "image/png": "[encoded data removed]",
      "text/plain": [
       "<Figure size 1080x360 with 1 Axes>"
      ]
     },
     "metadata": {},
     "output_type": "display_data"
    }
   ],
   "source": [
    "at_least_one_by_country.plot(kind='bar')"
   ]
  },
  {
   "cell_type": "markdown",
   "metadata": {},
   "source": [
    "#### Number of ads that had at least one booking sorted by type of device"
   ]
  },
  {
   "cell_type": "code",
   "execution_count": 10,
   "metadata": {},
   "outputs": [
    {
     "data": {
      "text/plain": [
       "desktop    1150\n",
       "phone       916\n",
       "tablet       72\n",
       "Name: pub_device, dtype: int64"
      ]
     },
     "execution_count": 10,
     "metadata": {},
     "output_type": "execute_result"
    }
   ],
   "source": [
    "at_least_one_booking['pub_device'].value_counts()"
   ]
  },
  {
   "cell_type": "markdown",
   "metadata": {},
   "source": [
    "#### Number of ads that had at least one booking sorted by number of matching keywords"
   ]
  },
  {
   "cell_type": "code",
   "execution_count": 11,
   "metadata": {},
   "outputs": [
    {
     "data": {
      "text/plain": [
       "2    1198\n",
       "0     719\n",
       "1     221\n",
       "Name: match_type, dtype: int64"
      ]
     },
     "execution_count": 11,
     "metadata": {},
     "output_type": "execute_result"
    }
   ],
   "source": [
    "at_least_one_booking['match_type'].value_counts()"
   ]
  },
  {
   "cell_type": "markdown",
   "metadata": {},
   "source": [
    "#### Average time Users engage with Trivago website"
   ]
  },
  {
   "cell_type": "code",
   "execution_count": 12,
   "metadata": {},
   "outputs": [
    {
     "data": {
      "text/plain": [
       "<matplotlib.axes._subplots.AxesSubplot at 0x219801088c8>"
      ]
     },
     "execution_count": 12,
     "metadata": {},
     "output_type": "execute_result"
    },
    {
     "data": {
      "image/png": "[encoded data removed]",
      "text/plain": [
       "<Figure size 1080x360 with 1 Axes>"
      ]
     },
     "metadata": {},
     "output_type": "display_data"
    }
   ],
   "source": [
    "df['users_engagement'].plot()"
   ]
  },
  {
   "cell_type": "markdown",
   "metadata": {},
   "source": [
    "#### Trivago Revenue per Ad"
   ]
  },
  {
   "cell_type": "code",
   "execution_count": 13,
   "metadata": {},
   "outputs": [
    {
     "data": {
      "text/plain": [
       "<matplotlib.axes._subplots.AxesSubplot at 0x2198041c688>"
      ]
     },
     "execution_count": 13,
     "metadata": {},
     "output_type": "execute_result"
    },
    {
     "data": {
      "image/png": "[encoded data removed]",
      "text/plain": [
       "<Figure size 1080x360 with 1 Axes>"
      ]
     },
     "metadata": {},
     "output_type": "display_data"
    }
   ],
   "source": [
    "df['clickout_rev'].plot()"
   ]
  },
  {
   "cell_type": "code",
   "execution_count": 14,
   "metadata": {},
   "outputs": [
    {
     "data": {
      "text/plain": [
       "DE    532865\n",
       "UK    283979\n",
       "BR    263488\n",
       "AU    118402\n",
       "CA     76451\n",
       "Name: market_code, dtype: int64"
      ]
     },
     "execution_count": 14,
     "metadata": {},
     "output_type": "execute_result"
    }
   ],
   "source": [
    "countries = df['market_code'].value_counts()\n",
    "countries"
   ]
  },
  {
   "cell_type": "code",
   "execution_count": 15,
   "metadata": {},
   "outputs": [
    {
     "data": {
      "text/plain": [
       "<matplotlib.axes._subplots.AxesSubplot at 0x21980475088>"
      ]
     },
     "execution_count": 15,
     "metadata": {},
     "output_type": "execute_result"
    },
    {
     "data": {
      "image/png": "[encoded data removed]",
      "text/plain": [
       "<Figure size 1080x360 with 1 Axes>"
      ]
     },
     "metadata": {},
     "output_type": "display_data"
    }
   ],
   "source": [
    "countries.plot(kind='bar')"
   ]
  },
  {
   "cell_type": "code",
   "execution_count": 16,
   "metadata": {},
   "outputs": [
    {
     "data": {
      "text/plain": [
       "desktop    594729\n",
       "phone      541075\n",
       "tablet     139381\n",
       "Name: pub_device, dtype: int64"
      ]
     },
     "execution_count": 16,
     "metadata": {},
     "output_type": "execute_result"
    }
   ],
   "source": [
    "devices = df['pub_device'].value_counts()\n",
    "devices"
   ]
  },
  {
   "cell_type": "code",
   "execution_count": 17,
   "metadata": {},
   "outputs": [
    {
     "data": {
      "text/plain": [
       "<matplotlib.axes._subplots.AxesSubplot at 0x2198050c888>"
      ]
     },
     "execution_count": 17,
     "metadata": {},
     "output_type": "execute_result"
    },
    {
     "data": {
      "image/png": "[encoded data removed]",
      "text/plain": [
       "<Figure size 1080x360 with 1 Axes>"
      ]
     },
     "metadata": {},
     "output_type": "display_data"
    }
   ],
   "source": [
    "devices.plot(kind='bar')"
   ]
  },
  {
   "cell_type": "code",
   "execution_count": 18,
   "metadata": {},
   "outputs": [
    {
     "data": {
      "text/plain": [
       "ItemHotel                 205552\n",
       "Hotel                     181983\n",
       "CityOnly                   93916\n",
       "Accommodation              54775\n",
       "Holidayflat                47469\n",
       "                           ...  \n",
       "RegionHotelsLastMinute         6\n",
       "HTHotelsGoodValue              3\n",
       "HTHotelsBudget                 1\n",
       "HTHotelsPeriodDec              1\n",
       "CountryHotelsOffer             1\n",
       "Name: theme_name_english, Length: 408, dtype: int64"
      ]
     },
     "execution_count": 18,
     "metadata": {},
     "output_type": "execute_result"
    }
   ],
   "source": [
    "df['theme_name_english'].value_counts()"
   ]
  },
  {
   "cell_type": "code",
   "execution_count": 19,
   "metadata": {},
   "outputs": [],
   "source": [
    "# item = hotel"
   ]
  },
  {
   "cell_type": "code",
   "execution_count": 20,
   "metadata": {},
   "outputs": [
    {
     "data": {
      "text/plain": [
       "City           768430\n",
       "Item           205552\n",
       "CityOnly        93916\n",
       "Region          91949\n",
       "Poi             46969\n",
       "Country         30862\n",
       "RegionOnly      12047\n",
       "HT              10688\n",
       "PoiOnly          7663\n",
       "CountryOnly      7109\n",
       "Name: replacement_type_name, dtype: int64"
      ]
     },
     "execution_count": 20,
     "metadata": {},
     "output_type": "execute_result"
    }
   ],
   "source": [
    "types = df['replacement_type_name'].value_counts()\n",
    "types"
   ]
  },
  {
   "cell_type": "code",
   "execution_count": 21,
   "metadata": {},
   "outputs": [
    {
     "data": {
      "text/plain": [
       "<matplotlib.axes._subplots.AxesSubplot at 0x2198057d608>"
      ]
     },
     "execution_count": 21,
     "metadata": {},
     "output_type": "execute_result"
    },
    {
     "data": {
      "image/png": "[encoded data removed]",
      "text/plain": [
       "<Figure size 1080x360 with 1 Axes>"
      ]
     },
     "metadata": {},
     "output_type": "display_data"
    }
   ],
   "source": [
    "types.plot(kind='bar')"
   ]
  },
  {
   "cell_type": "code",
   "execution_count": 22,
   "metadata": {},
   "outputs": [
    {
     "data": {
      "text/plain": [
       "0          20200905\n",
       "1          20200905\n",
       "2          20200905\n",
       "3          20200905\n",
       "4          20200905\n",
       "             ...   \n",
       "1275180    20210303\n",
       "1275181    20210303\n",
       "1275182    20210303\n",
       "1275183    20210303\n",
       "1275184    20210303\n",
       "Name: ymd, Length: 1275185, dtype: int64"
      ]
     },
     "execution_count": 22,
     "metadata": {},
     "output_type": "execute_result"
    }
   ],
   "source": [
    "df['ymd'] # graph of days of the week"
   ]
  },
  {
   "cell_type": "markdown",
   "metadata": {},
   "source": [
    "### Counting number of bookings by day of the week"
   ]
  },
  {
   "cell_type": "code",
   "execution_count": 23,
   "metadata": {},
   "outputs": [],
   "source": [
    "df_with_weekdays = df[['ymd','bookings']].copy()"
   ]
  },
  {
   "cell_type": "code",
   "execution_count": 24,
   "metadata": {},
   "outputs": [
    {
     "data": {
      "text/html": [
       "<div>\n",
       "<style scoped>\n",
       "    .dataframe tbody tr th:only-of-type {\n",
       "        vertical-align: middle;\n",
       "    }\n",
       "\n",
       "    .dataframe tbody tr th {\n",
       "        vertical-align: top;\n",
       "    }\n",
       "\n",
       "    .dataframe thead th {\n",
       "        text-align: right;\n",
       "    }\n",
       "</style>\n",
       "<table border=\"1\" class=\"dataframe\">\n",
       "  <thead>\n",
       "    <tr style=\"text-align: right;\">\n",
       "      <th></th>\n",
       "      <th>ymd</th>\n",
       "      <th>bookings</th>\n",
       "    </tr>\n",
       "  </thead>\n",
       "  <tbody>\n",
       "    <tr>\n",
       "      <th>0</th>\n",
       "      <td>20200905</td>\n",
       "      <td>0.0</td>\n",
       "    </tr>\n",
       "    <tr>\n",
       "      <th>1</th>\n",
       "      <td>20200905</td>\n",
       "      <td>0.0</td>\n",
       "    </tr>\n",
       "    <tr>\n",
       "      <th>2</th>\n",
       "      <td>20200905</td>\n",
       "      <td>0.0</td>\n",
       "    </tr>\n",
       "    <tr>\n",
       "      <th>3</th>\n",
       "      <td>20200905</td>\n",
       "      <td>0.0</td>\n",
       "    </tr>\n",
       "    <tr>\n",
       "      <th>4</th>\n",
       "      <td>20200905</td>\n",
       "      <td>0.0</td>\n",
       "    </tr>\n",
       "    <tr>\n",
       "      <th>...</th>\n",
       "      <td>...</td>\n",
       "      <td>...</td>\n",
       "    </tr>\n",
       "    <tr>\n",
       "      <th>1275180</th>\n",
       "      <td>20210303</td>\n",
       "      <td>0.0</td>\n",
       "    </tr>\n",
       "    <tr>\n",
       "      <th>1275181</th>\n",
       "      <td>20210303</td>\n",
       "      <td>0.0</td>\n",
       "    </tr>\n",
       "    <tr>\n",
       "      <th>1275182</th>\n",
       "      <td>20210303</td>\n",
       "      <td>0.0</td>\n",
       "    </tr>\n",
       "    <tr>\n",
       "      <th>1275183</th>\n",
       "      <td>20210303</td>\n",
       "      <td>NaN</td>\n",
       "    </tr>\n",
       "    <tr>\n",
       "      <th>1275184</th>\n",
       "      <td>20210303</td>\n",
       "      <td>0.0</td>\n",
       "    </tr>\n",
       "  </tbody>\n",
       "</table>\n",
       "<p>1275185 rows × 2 columns</p>\n",
       "</div>"
      ],
      "text/plain": [
       "              ymd  bookings\n",
       "0        20200905       0.0\n",
       "1        20200905       0.0\n",
       "2        20200905       0.0\n",
       "3        20200905       0.0\n",
       "4        20200905       0.0\n",
       "...           ...       ...\n",
       "1275180  20210303       0.0\n",
       "1275181  20210303       0.0\n",
       "1275182  20210303       0.0\n",
       "1275183  20210303       NaN\n",
       "1275184  20210303       0.0\n",
       "\n",
       "[1275185 rows x 2 columns]"
      ]
     },
     "execution_count": 24,
     "metadata": {},
     "output_type": "execute_result"
    }
   ],
   "source": [
    "df_with_weekdays"
   ]
  },
  {
   "cell_type": "markdown",
   "metadata": {},
   "source": [
    "#### Convert 'ymd' column to type datetime using pd.to_datetime()"
   ]
  },
  {
   "cell_type": "code",
   "execution_count": 25,
   "metadata": {},
   "outputs": [
    {
     "data": {
      "text/plain": [
       "Timestamp('2020-09-05 00:00:00')"
      ]
     },
     "execution_count": 25,
     "metadata": {},
     "output_type": "execute_result"
    }
   ],
   "source": [
    "pd.to_datetime('20200905', format='%Y%m%d')"
   ]
  },
  {
   "cell_type": "code",
   "execution_count": 26,
   "metadata": {},
   "outputs": [
    {
     "data": {
      "text/plain": [
       "0         2020-09-05\n",
       "1         2020-09-05\n",
       "2         2020-09-05\n",
       "3         2020-09-05\n",
       "4         2020-09-05\n",
       "             ...    \n",
       "1275180   2021-03-03\n",
       "1275181   2021-03-03\n",
       "1275182   2021-03-03\n",
       "1275183   2021-03-03\n",
       "1275184   2021-03-03\n",
       "Name: ymd, Length: 1275185, dtype: datetime64[ns]"
      ]
     },
     "execution_count": 26,
     "metadata": {},
     "output_type": "execute_result"
    }
   ],
   "source": [
    "pd.to_datetime(df_with_weekdays['ymd'], format='%Y%m%d')"
   ]
  },
  {
   "cell_type": "markdown",
   "metadata": {},
   "source": [
    "#### get day of the week from 'ymd' column using pd.dt.dayofweek"
   ]
  },
  {
   "cell_type": "code",
   "execution_count": 27,
   "metadata": {},
   "outputs": [
    {
     "data": {
      "text/plain": [
       "0          5\n",
       "1          5\n",
       "2          5\n",
       "3          5\n",
       "4          5\n",
       "          ..\n",
       "1275180    2\n",
       "1275181    2\n",
       "1275182    2\n",
       "1275183    2\n",
       "1275184    2\n",
       "Name: ymd, Length: 1275185, dtype: int64"
      ]
     },
     "execution_count": 27,
     "metadata": {},
     "output_type": "execute_result"
    }
   ],
   "source": [
    "# 0 is monday, 1 is tuesday, etc.\n",
    "weekdays = pd.to_datetime(df_with_weekdays['ymd'], format='%Y%m%d').dt.dayofweek\n",
    "weekdays"
   ]
  },
  {
   "cell_type": "code",
   "execution_count": 28,
   "metadata": {},
   "outputs": [],
   "source": [
    "df_with_weekdays.loc[:,'weekday'] = weekdays"
   ]
  },
  {
   "cell_type": "code",
   "execution_count": 29,
   "metadata": {},
   "outputs": [],
   "source": [
    "at_least_one_booking = df_with_weekdays[df_with_weekdays['bookings'] > 0]\n",
    "no_bookings = df_with_weekdays[df_with_weekdays['bookings'] == 0]\n"
   ]
  },
  {
   "cell_type": "code",
   "execution_count": 30,
   "metadata": {},
   "outputs": [
    {
     "data": {
      "text/plain": [
       "<matplotlib.axes._subplots.AxesSubplot at 0x21980576788>"
      ]
     },
     "execution_count": 30,
     "metadata": {},
     "output_type": "execute_result"
    },
    {
     "data": {
      "image/png": "[encoded data removed]",
      "text/plain": [
       "<Figure size 1080x360 with 1 Axes>"
      ]
     },
     "metadata": {},
     "output_type": "display_data"
    }
   ],
   "source": [
    "weekday_counts_at_least_one = at_least_one_booking.groupby('weekday').aggregate(len)\n",
    "del weekday_counts_at_least_one['ymd']\n",
    "weekday_counts_at_least_one.index = ['Monday', 'Tuesday', 'Wednesday', 'Thursday', 'Friday', 'Saturday', 'Sunday']\n",
    "weekday_counts_at_least_one.plot(kind='bar', title='number of ads that had at least one booking')"
   ]
  },
  {
   "cell_type": "code",
   "execution_count": 31,
   "metadata": {},
   "outputs": [
    {
     "data": {
      "text/plain": [
       "<matplotlib.axes._subplots.AxesSubplot at 0x2198084fdc8>"
      ]
     },
     "execution_count": 31,
     "metadata": {},
     "output_type": "execute_result"
    },
    {
     "data": {
      "image/png": "[encoded data removed]",
      "text/plain": [
       "<Figure size 1080x360 with 1 Axes>"
      ]
     },
     "metadata": {},
     "output_type": "display_data"
    },
    {
     "data": {
      "image/png": "[encoded data removed]",
      "text/plain": [
       "<Figure size 1080x360 with 1 Axes>"
      ]
     },
     "metadata": {},
     "output_type": "display_data"
    }
   ],
   "source": [
    "weekday_counts_zero = no_bookings.groupby('weekday').aggregate(len)\n",
    "del weekday_counts_zero['ymd']\n",
    "weekday_counts_zero.index = ['Monday', 'Tuesday', 'Wednesday', 'Thursday', 'Friday', 'Saturday', 'Sunday']\n",
    "weekday_counts_zero.plot(kind='bar')\n",
    "weekday_counts_at_least_one.plot(kind='bar', title='number of ads that had no bookings')"
   ]
  },
  {
   "cell_type": "markdown",
   "metadata": {},
   "source": [
    "### Hypothesis testing to see if Friday has on average more bookings than Thursday"
   ]
  },
  {
   "cell_type": "code",
   "execution_count": null,
   "metadata": {},
   "outputs": [],
   "source": []
  }
 ],
 "metadata": {
  "kernelspec": {
   "display_name": "Python 3",
   "language": "python",
   "name": "python3"
  },
  "language_info": {
   "codemirror_mode": {
    "name": "ipython",
    "version": 3
   },
   "file_extension": ".py",
   "mimetype": "text/x-python",
   "name": "python",
   "nbconvert_exporter": "python",
   "pygments_lexer": "ipython3",
   "version": "3.7.4"
  }
 },
 "nbformat": 4,
 "nbformat_minor": 4
}
